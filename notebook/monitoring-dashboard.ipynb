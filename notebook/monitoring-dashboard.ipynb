{
 "cells": [
  {
   "cell_type": "markdown",
   "metadata": {},
   "source": [
    "# Monitoring Stack Quick Dashboard\n",
    "Live metrics from the local Prometheus instance."
   ]
  },
  {
   "cell_type": "code",
   "execution_count": null,
   "metadata": {},
   "outputs": [],
   "source": [
    "# Install deps if not already present\n",
    "# !pip install prometheus-api-client pandas matplotlib seaborn"
   ]
  },
  {
   "cell_type": "code",
   "execution_count": null,
   "metadata": {},
   "outputs": [],
   "source": [
    "from prometheus_api_client import PrometheusConnect\n",
    "import pandas as pd\n",
    "import matplotlib.pyplot as plt\n",
    "import seaborn as sns\n",
    "sns.set_theme(style=\"whitegrid\")\n",
    "\n",
    "prom = PrometheusConnect(url=\"http://localhost:9090\", disable_ssl=True)"
   ]
  },
  {
   "cell_type": "markdown",
   "metadata": {},
   "source": [
    "## 1. Endpoint Uptime (Blackbox probe_success)"
   ]
  },
  {
   "cell_type": "code",
   "execution_count": null,
   "metadata": {},
   "outputs": [],
   "source": [
    "uptime = prom.get_current_metric_value('probe_success')\n",
    "uptime_df = pd.DataFrame(uptime)\n",
    "uptime_df['value'] = uptime_df['value'].astype(int)\n",
    "\n",
    "sns.barplot(x='instance', y='value', data=uptime_df)\n",
    "plt.title('Endpoint Up/Down (1 = Up)')\n",
    "plt.xticks(rotation=45, ha='right')\n",
    "plt.show()"
   ]
  },
  {
   "cell_type": "markdown",
   "metadata": {},
   "source": [
    "## 2. Probe Duration (Latency)"
   ]
  },
  {
   "cell_type": "code",
   "execution_count": null,
   "metadata": {},
   "outputs": [],
   "source": [
    "latency = prom.get_current_metric_value('probe_duration_seconds')\n",
    "latency_df = pd.DataFrame(latency)\n",
    "latency_df['value'] = latency_df['value'].astype(float)\n",
    "\n",
    "sns.barplot(x='instance', y='value', data=latency_df)\n",
    "plt.title('HTTP Latency (seconds)')\n",
    "plt.xticks(rotation=45, ha='right')\n",
    "plt.show()"
   ]
  },
  {
   "cell_type": "markdown",
   "metadata": {},
   "source": [
    "## 3. Redis Keys (example)"
   ]
  },
  {
   "cell_type": "code",
   "execution_count": null,
   "metadata": {},
   "outputs": [],
   "source": [
    "keys = prom.get_current_metric_value('redis_db_keys')\n",
    "if keys:\n",
    "    keys_df = pd.DataFrame(keys)\n",
    "    keys_df['value'] = keys_df['value'].astype(int)\n",
    "    sns.barplot(x='instance', y='value', data=keys_df)\n",
    "    plt.title('Redis Keys per DB')\n",
    "    plt.show()\n",
    "else:\n",
    "    print(\"No redis keys metric found (yet).\")"
   ]
  },
  {
   "cell_type": "markdown",
   "metadata": {},
   "source": [
    "## 4. Node CPU Utilization"
   ]
  },
  {
   "cell_type": "code",
   "execution_count": null,
   "metadata": {},
   "outputs": [],
   "source": [
    "cpu = prom.get_current_metric_value('(1 - avg(rate(node_cpu_seconds_total{mode=\"idle\"}[1m])) by (instance)) * 100')\n",
    "cpu_df = pd.DataFrame(cpu)\n",
    "cpu_df['value'] = cpu_df['value'].astype(float)\n",
    "\n",
    "sns.barplot(x='instance', y='value', data=cpu_df)\n",
    "plt.title('CPU Utilization (%)')\n",
    "plt.show()"
   ]
  },
  {
   "cell_type": "markdown",
   "metadata": {},
   "source": [
    "## Extras\n",
    "- Adjust Prometheus queries to fit your rules\n",
    "- Export this notebook (`File → Export → HTML`) and host the static HTML as a GitHub Pages report"
   ]
  }
 ],
 "metadata": {
  "kernelspec": {
   "display_name": "Python 3 (ipykernel)",
   "language": "python",
   "name": "python3"
  },
  "language_info": {
   "name": "python",
   "version": "3.10.x"
  }
 },
 "nbformat": 4,
 "nbformat_minor": 4
}
